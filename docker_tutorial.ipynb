{
 "cells": [
  {
   "cell_type": "markdown",
   "metadata": {},
   "source": [
    "# Docker Tutorial \n",
    "\n",
    "Below tutorial is based on Window WSL. Different operation systems should work similarly, but have not been tested by originzer. \n",
    "\n",
    "There are might be other ways can work well. Below just shows the orginazer's successful experience towards this challenge! "
   ]
  },
  {
   "cell_type": "markdown",
   "metadata": {},
   "source": [
    "### Step 1. Download the docker deskstop \n",
    "\n",
    "Following the steps here: https://docs.docker.com/desktop/features/wsl/. Especially pay attention to below steps: \n",
    "\n",
    "<p align=\"center\">\n",
    "  <img src='figs/docker/docker_install.png' width=\"800px\"/>\n",
    "</p>\n",
    "\n",
    "After you successfully install docker, you should be able to run `docker --help` and see something like below: \n",
    "\n",
    "<p align=\"center\">\n",
    "  <img src='figs/docker/docker_help.png' width=\"800px\"/>\n",
    "</p>"
   ]
  },
  {
   "cell_type": "markdown",
   "metadata": {},
   "source": [
    "### Step 2. Put the resources in a resonable structure\n",
    "\n",
    "How to structure the resources is related to how you write the Dockerfile. The example is based on directly clone this GitHub repo. If you have changed the file structure, you may need to change the Dockerfile correspondingly. "
   ]
  },
  {
   "cell_type": "markdown",
   "metadata": {},
   "source": [
    "### Step 3. Build the Docker \n",
    "\n",
    "The example command line is below: \n",
    "```\n",
    "docker build -t gdphmm .\n",
    "```\n",
    "\n",
    "`gdphmm` is the image ID and you can change it. Attention: you should have the `Dockerfile` and  `requirements.txt` under `./` if you follow this example here.  \n",
    "\n",
    "<p align=\"center\">\n",
    "  <img src='figs/docker/docker_build.png' width=\"800px\"/>\n",
    "</p>"
   ]
  },
  {
   "cell_type": "markdown",
   "metadata": {},
   "source": [
    "### Step 4. Run the docker\n",
    "\n",
    "```docker run --shm-size 8g --rm -v /local/path/to/data:/data -v /local/path/to/results:/results gdphmm```\n",
    "\n",
    "<p align=\"center\">\n",
    "  <img src='figs/docker/docker_run.png' width=\"800px\"/>\n",
    "</p>"
   ]
  },
  {
   "cell_type": "code",
   "execution_count": null,
   "metadata": {
    "vscode": {
     "languageId": "plaintext"
    }
   },
   "outputs": [],
   "source": [
    "This is the example docker can run successfully! You may need to adjust a little when pack your solution in the testing phase. More instructions will be provided! "
   ]
  }
 ],
 "metadata": {
  "language_info": {
   "name": "python"
  }
 },
 "nbformat": 4,
 "nbformat_minor": 2
}
